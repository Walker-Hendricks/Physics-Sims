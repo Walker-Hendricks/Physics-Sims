{
 "cells": [
  {
   "cell_type": "markdown",
   "metadata": {},
   "source": [
    "# The Mathieu Equation"
   ]
  },
  {
   "cell_type": "markdown",
   "metadata": {},
   "source": [
    "<p align=\"center\">\n",
    "  <img src=\"Mathieu.png\" />\n",
    "</p>"
   ]
  },
  {
   "cell_type": "markdown",
   "metadata": {},
   "source": []
  },
  {
   "cell_type": "markdown",
   "metadata": {},
   "source": [
    "# Imports"
   ]
  },
  {
   "cell_type": "code",
   "execution_count": 39,
   "metadata": {},
   "outputs": [],
   "source": [
    "import sympy as sp                                                          # For solving the equation\n",
    "from sympy import sin, cos                                                  # Trig functions\n",
    "from sympy.physics.mechanics import dynamicsymbols, LagrangesMethod         # For creating time-dependent functions and finding EoM\n",
    "import matplotlib\n",
    "from matplotlib.patches import Patch\n",
    "import matplotlib.pyplot as plt                                             # For plotting\n",
    "import numpy as np                                                          # For numerical solving\n",
    "\n",
    "import panel as pn                                                          # For interactive animations"
   ]
  },
  {
   "cell_type": "markdown",
   "metadata": {},
   "source": [
    "# Formulating the Equations of Motion\n",
    "\n",
    "The first step in a mechanics problem is finding the position vector in terms of the generalized coordinates. From there, you can take the time derivative to find the generalized velocity vector (and from there find the kinetic energy). Sympy is nice in that it can find our equations of motion from the Lagrangian, but we'll need to define the Lagrangian first.\n",
    "\n",
    "We'll start by creating a vector for our positional coordinates. The x-position of the mass can be determined using the angle $\\phi$, via the standard polar relation $x=l\\sin(\\phi)$. (It's $\\color{red}{\\text{sin}}$ because the x-coordinate is opposite the rotational point of the pendulum.) However, for the y-coordinate, we have the vertical motion of the mass due to the oscillation of the pendulum AND due to the oscillation of the vertical platform. Thus, the y-coordinate is given by $y=l\\cos(\\phi) + A\\cos(\\omega t)$, where the first term is due to the *pendulum's* oscillation and the second term is due to the *ceiling's* oscillation.\n",
    "\n",
    "For our constraints, we have $z=0$ as this is a two-dimensional problem. Also, we have the length of the pendulum as a constant. Thus, for our position vector we have\n",
    "$$\n",
    "\\vec{r} = \\langle x, y, z \\rangle = \\langle l\\sin(\\phi),\\,l\\cos(\\phi) + A\\cos(\\omega t),\\, 0 \\rangle\n",
    "$$\n",
    "where $\\phi$ is a function of time.\n",
    "\n",
    "Given this as our starting point, we can actually code the rest, all the way to our equations of motion!"
   ]
  },
  {
   "cell_type": "code",
   "execution_count": 2,
   "metadata": {},
   "outputs": [
    {
     "data": {
      "text/latex": [
       "$\\displaystyle \\left[\\begin{matrix}l \\sin{\\left(\\phi{\\left(t \\right)} \\right)}\\\\A \\cos{\\left(\\omega t \\right)} + l \\cos{\\left(\\phi{\\left(t \\right)} \\right)}\\\\0\\end{matrix}\\right]$"
      ],
      "text/plain": [
       "Matrix([\n",
       "[                 l*sin(phi(t))],\n",
       "[A*cos(omega*t) + l*cos(phi(t))],\n",
       "[                             0]])"
      ]
     },
     "execution_count": 2,
     "metadata": {},
     "output_type": "execute_result"
    }
   ],
   "source": [
    "# Creating phi(t)\n",
    "phi = dynamicsymbols('phi')\n",
    "# Creating the other symbols (space delimited)\n",
    "l, omega, A, t, m, g = sp.symbols('l omega A t m g')\n",
    "\n",
    "# Initializing the position vector\n",
    "x = l*sin(phi)\n",
    "y = l*cos(phi) + A*cos(omega * t)\n",
    "z = 0\n",
    "r = sp.Matrix([x, y, z])\n",
    "r"
   ]
  },
  {
   "cell_type": "code",
   "execution_count": 3,
   "metadata": {},
   "outputs": [
    {
     "data": {
      "text/latex": [
       "$\\displaystyle \\left[\\begin{matrix}l \\cos{\\left(\\phi{\\left(t \\right)} \\right)} \\frac{d}{d t} \\phi{\\left(t \\right)}\\\\- A \\omega \\sin{\\left(\\omega t \\right)} - l \\sin{\\left(\\phi{\\left(t \\right)} \\right)} \\frac{d}{d t} \\phi{\\left(t \\right)}\\\\0\\end{matrix}\\right]$"
      ],
      "text/plain": [
       "Matrix([\n",
       "[                        l*cos(phi(t))*Derivative(phi(t), t)],\n",
       "[-A*omega*sin(omega*t) - l*sin(phi(t))*Derivative(phi(t), t)],\n",
       "[                                                          0]])"
      ]
     },
     "execution_count": 3,
     "metadata": {},
     "output_type": "execute_result"
    }
   ],
   "source": [
    "# Taking the time derivative\n",
    "rdot = sp.diff(r, t)\n",
    "rdot"
   ]
  },
  {
   "cell_type": "code",
   "execution_count": 4,
   "metadata": {},
   "outputs": [
    {
     "data": {
      "text/latex": [
       "$\\displaystyle m \\left(- g \\left(A \\cos{\\left(\\omega t \\right)} + l \\cos{\\left(\\phi{\\left(t \\right)} \\right)}\\right) + 0.5 l^{2} \\cos^{2}{\\left(\\phi{\\left(t \\right)} \\right)} \\left(\\frac{d}{d t} \\phi{\\left(t \\right)}\\right)^{2} + 0.5 \\left(A \\omega \\sin{\\left(\\omega t \\right)} + l \\sin{\\left(\\phi{\\left(t \\right)} \\right)} \\frac{d}{d t} \\phi{\\left(t \\right)}\\right)^{2}\\right)$"
      ],
      "text/plain": [
       "m*(-g*(A*cos(omega*t) + l*cos(phi(t))) + 0.5*l**2*cos(phi(t))**2*Derivative(phi(t), t)**2 + 0.5*(A*omega*sin(omega*t) + l*sin(phi(t))*Derivative(phi(t), t))**2)"
      ]
     },
     "execution_count": 4,
     "metadata": {},
     "output_type": "execute_result"
    }
   ],
   "source": [
    "# Formulating the Lagrangian\n",
    "v_squared = rdot.dot(rdot)\n",
    "# Kinetic energy\n",
    "T = 1/2 * m * v_squared\n",
    "# Potential energy\n",
    "U = m * g * r[1]\n",
    "# Lagrangian formulation\n",
    "L = T - U\n",
    "\n",
    "LM = LagrangesMethod(L, [phi])\n",
    "# Printing the Lagrangian\n",
    "sp.simplify(L)"
   ]
  },
  {
   "cell_type": "code",
   "execution_count": 5,
   "metadata": {},
   "outputs": [
    {
     "data": {
      "text/latex": [
       "$\\displaystyle l m \\left(A \\omega^{2} \\sin{\\left(\\phi{\\left(t \\right)} \\right)} \\cos{\\left(\\omega t \\right)} - g \\sin{\\left(\\phi{\\left(t \\right)} \\right)} + l \\frac{d^{2}}{d t^{2}} \\phi{\\left(t \\right)}\\right)$"
      ],
      "text/plain": [
       "l*m*(A*omega**2*sin(phi(t))*cos(omega*t) - g*sin(phi(t)) + l*Derivative(phi(t), (t, 2)))"
      ]
     },
     "execution_count": 5,
     "metadata": {},
     "output_type": "execute_result"
    }
   ],
   "source": [
    "# Deriving the Equation of Motion\n",
    "EoM = LM.form_lagranges_equations()[0]\n",
    "EoM = sp.simplify(EoM)\n",
    "EoM"
   ]
  },
  {
   "cell_type": "code",
   "execution_count": 6,
   "metadata": {},
   "outputs": [
    {
     "data": {
      "text/latex": [
       "$\\displaystyle l m \\left(A \\omega^{2} \\phi{\\left(t \\right)} \\cos{\\left(\\omega t \\right)} - g \\phi{\\left(t \\right)} + l \\frac{d^{2}}{d t^{2}} \\phi{\\left(t \\right)}\\right)$"
      ],
      "text/plain": [
       "l*m*(A*omega**2*phi(t)*cos(omega*t) - g*phi(t) + l*Derivative(phi(t), (t, 2)))"
      ]
     },
     "execution_count": 6,
     "metadata": {},
     "output_type": "execute_result"
    }
   ],
   "source": [
    "# Small angle approximation:\n",
    "EoM = EoM.subs(sin(phi), phi)\n",
    "EoM"
   ]
  },
  {
   "cell_type": "markdown",
   "metadata": {},
   "source": [
    "# Analyzing the Test Cases\n",
    "\n",
    "Now we have several test cases we need to examine: specifically, $$\\omega_1 = \\sqrt{\\frac{g}{l}}, \\; \\omega_2 = 2\\sqrt{\\frac{g}{l}}, \\; \\omega_3 = 3\\sqrt{\\frac{g}{l}}.$$ The first two are supposed to indicate an upsurge while the final case is to show that the only stable points for the system are $A \\leq 5 \\frac{l}{18}$. Let's tackle these in two different parts."
   ]
  },
  {
   "cell_type": "markdown",
   "metadata": {},
   "source": [
    "## Part A: The Upsurge\n",
    "\n",
    "The differential equation we have arrived at is known as ***Mathieu's Equation***, and has been well-studied over the centuries. Thus, we can rely on the results of other hard-woring mathematicians. Thanks to Gaston Floquet, we know a few things about this equation that will help us determine whether an upsurge will happen.\n",
    "\n",
    "According to Floquet's theorem, solutions to the Mathieu equation will either converge to zero or diverge to infinity. [[1](https://en.wikipedia.org/wiki/Mathieu_function)][[2](https://en.wikipedia.org/wiki/Floquet_theory)] Thus, with the results of the Mathieu equation, there are regions of stability (converging to zero) or instability (diverging to infinity). The way we can know which regions are stable and which are not is by using an Ince-Strutt diagram. This diagram shows 5 curves, and the regions bounded by these curves determines the unstable regions. We can actually plot the curves here because, thankfully, a physicist from St. Petersburg, Dr. Eugene Butikov, determined the analytical solutions to them not too long ago [[3](https://pubs.aip.org/aapt/ajp/article/86/4/257/1057663/Analytical-expressions-for-stability-regions-in)].\n",
    "\n",
    "To utilize these results, we first need to slightly adjust the form of our differential equation. The form used for the curves derived by Butikov is\n",
    "$$\n",
    "\\frac{d^2u}{dt^2} + k\\left(1 - m\\cos{t} \\right)u = 0.\n",
    "$$\n",
    "Making our solution match this form yields\n",
    "$$\n",
    "\\ddot{\\phi} - \\frac{g}{l}\\left[1 - \\frac{A\\omega^2}{g}\\cos{\\omega t} \\right]\\phi = 0\n",
    "$$\n",
    "showing\n",
    "$$\n",
    "k = -\\frac{g}{l}, \\: m = \\frac{A\\omega^2}{g}.\n",
    "$$\n",
    "\n",
    "Now, the analytic curves on the Ince-Strutt diagram are determined to be\n",
    "$$\n",
    "m(k) = \\begin{cases}\n",
    "2\\sqrt{\\frac{k(k-1)(k-4)}{3k-8}}, & k < 0,\\\\\n",
    "\\frac{1}{4}\\left(\\sqrt{(9-4k)(13-20k)}-(9-4k) \\right),  &  k < \\frac{1}{4},\\\\\n",
    "\\frac{1}{4}\\left(9-4k-\\sqrt{(9-4k)(13-20k)} \\right),  & \\frac{1}{4} < k < \\frac{13}{20},\\\\\n",
    "\\sqrt{\\frac{2(k-1)(k-4)(k-9)}{k-5}}, & \\frac{13}{20} < k < 1,\\\\\n",
    "2\\sqrt{\\frac{k(k-1)(k-4)}{3k-8}}, & k > 1\n",
    "\\end{cases}\n",
    "$$\n",
    "Knowing this, we can actually plot this diagram to get a good idea of what it looks like."
   ]
  },
  {
   "cell_type": "code",
   "execution_count": 30,
   "metadata": {},
   "outputs": [],
   "source": [
    "# Defining k\n",
    "k = np.linspace(-1, 1.5, 400)\n",
    "\n",
    "# Defining the boundary curves\n",
    "curve1 = np.piecewise(k, [k<0, k>=0], [lambda k: 2 * np.sqrt(k*(k-1)*(k-4) / (3*k - 8)), 0])                                               # k < 0\n",
    "curve2 = np.piecewise(k, [k<0.25, k>=0.25], [lambda k: 1/4 * (np.sqrt((9 - 4*k)*(13 - 20*k)) - (9 - 4*k)), 0])                             # k < 1/4\n",
    "curve3 = np.piecewise(k, [(k > 1/4) & (k<13/20), (k<=1/4) | (k>=13/20)], [lambda k: 1/4 * (9 - 4*k - np.sqrt((9 - 4*k)*(13 - 20*k))), 0])  # 1/4 < k < 13/20\n",
    "curve4 = np.piecewise(k, [(k > 13/20) & (k<1), (k<=13/20) | (k>=1)], [lambda k: np.sqrt(2 * (k - 1) * (k - 4) * (k - 9) / (k - 5)), 0])    # 13/20 < k < 1\n",
    "curve5 = np.piecewise(k, [k>1, k<=1], [lambda k: 2 * np.sqrt(k * (k - 1) * (k - 4) / (3*k -8)), 0])                                        # k > 1"
   ]
  },
  {
   "cell_type": "code",
   "execution_count": 43,
   "metadata": {},
   "outputs": [
    {
     "data": {
      "image/png": "[encoded data removed]",
      "text/plain": [
       "<Figure size 640x480 with 1 Axes>"
      ]
     },
     "metadata": {},
     "output_type": "display_data"
    }
   ],
   "source": [
    "# Getting a colormap\n",
    "cmap = matplotlib.colormaps['winter']\n",
    "\n",
    "# Getting line colors for each line\n",
    "colors = [cmap(i/4) for i in range(5)]\n",
    "\n",
    "# Defining the plot/curves\n",
    "fig, ax = plt.subplots()\n",
    "ax.plot(k, curve1, color=colors[0], label='$m_1$')\n",
    "ax.plot(k, curve2, color=colors[1], label='$m_2$')\n",
    "ax.plot(k, curve3, color=colors[2], label='$m_3$')\n",
    "ax.plot(k, curve4, color=colors[3], label='$m_4$')\n",
    "ax.plot(k, curve5, color=colors[4], label='$m_5$')\n",
    "\n",
    "# Filling between curves\n",
    "ax.fill_between(k, curve1, color='m', alpha=0.5)\n",
    "ax.fill_between(k, curve2, 2, where=(k < 1/4), color='m', alpha=0.5)\n",
    "ax.fill_between(k, curve3, 2, where=((k<13/20) & (k>=1/4)), color='m', alpha=0.5)\n",
    "ax.fill_between(k, curve4, 2, where=((k<1) & (k>13/20)), color='m', alpha=0.5)\n",
    "ax.fill_between(k, curve5, 2, where=(k>1), color='m', alpha=0.5)\n",
    "\n",
    "# Adding shaded region to legend\n",
    "shade = Patch(color='m', alpha=0.5, label='Instability Region')\n",
    "ax.legend(handles=[shade, *ax.get_lines()], loc='upper right')\n",
    "\n",
    "# Plot configuration\n",
    "ax.set_xlim(-1, 1.5)\n",
    "ax.set_ylim(0, 2)\n",
    "ax.set_xlabel('$k$')\n",
    "ax.set_ylabel('$m$')\n",
    "ax.set_title('Ince-Strutt Diagram')\n",
    "ax.grid(True)\n",
    "\n",
    "\n",
    "plt.show()"
   ]
  },
  {
   "cell_type": "markdown",
   "metadata": {},
   "source": [
    "Now that we've shown the regions of instability, all we have to do is figure out where our particular solution lies on this graph. We are given two cases: $\\omega_1 = \\sqrt{\\frac{g}{l}}$ and $\\omega_2 = 2\\sqrt{\\frac{g}{l}}$. With this, our values of $m$ become\n",
    "$$\n",
    "m_1 = \\frac{A}{l}, \\: m_2 = \\frac{4A}{l}\n",
    "$$\n",
    "while our value for k remains $k=-\\frac{g}{l}$. Using this, we can plot our particular case on the stability diagram.\n",
    "\n",
    "However, we need to choose a value for $A$. $A$ will be some positive scaling factor corresponding to the amplitude of oscillation for the pivot point of the pendulum. As our value of $k$ is negative, we can presume that the solution will likely diverge to infinity (though there is a small region of stability). What we can do to account for this is generate a vertical line at our value of $k$ corresponding to all the different values of A that could be chosen."
   ]
  },
  {
   "cell_type": "code",
   "execution_count": 52,
   "metadata": {},
   "outputs": [
    {
     "data": {
      "image/png": "[encoded data removed]",
      "text/plain": [
       "<Figure size 640x480 with 1 Axes>"
      ]
     },
     "metadata": {},
     "output_type": "display_data"
    }
   ],
   "source": [
    "# Defining constants\n",
    "g = 9.81\n",
    "l = 1\n",
    "k_prime = -g/l\n",
    "\n",
    "# Preparing vertical line at k_prime\n",
    "k = np.linspace(k_prime - 0.5, 0.25, 400)\n",
    "k_prime_y = [0, 14]\n",
    "k_prime_x = [k_prime, k_prime]\n",
    "\n",
    "# Defining the boundary curves\n",
    "curve1 = np.piecewise(k, [k<0, k>=0], [lambda k: 2 * np.sqrt(k*(k-1)*(k-4) / (3*k - 8)), 0])                                               # k < 0\n",
    "curve2 = np.piecewise(k, [k<0.25, k>=0.25], [lambda k: 1/4 * (np.sqrt((9 - 4*k)*(13 - 20*k)) - (9 - 4*k)), 0])                             # k < 1/4\n",
    "\n",
    "# Defining the plot/curves\n",
    "fig, ax = plt.subplots()\n",
    "ax.plot(k_prime_x, k_prime_y, color='red', label=\"$k'$\")\n",
    "ax.plot(k, curve1, color='blue', label='$m_1$')\n",
    "ax.plot(k, curve2, color='green', label='$m_2$')\n",
    "\n",
    "# Filling between curves\n",
    "ax.fill_between(k, curve1, color='m', alpha=0.5)\n",
    "ax.fill_between(k, curve2, 14, where=(k < 1/4), color='m', alpha=0.5)\n",
    "\n",
    "# Adding shaded region to legend\n",
    "shade = Patch(color='m', alpha=0.5, label='Instability Region')\n",
    "ax.legend(handles=[shade, *ax.get_lines()], loc='upper right')\n",
    "\n",
    "# Plot configuration\n",
    "ax.set_xlim(k_prime - 0.5, 0.25)\n",
    "ax.set_ylim(0, 14)\n",
    "ax.set_xlabel('$k$')\n",
    "ax.set_ylabel('$m$')\n",
    "ax.set_title('Ince-Strutt Diagram')\n",
    "ax.grid(True)\n",
    "\n",
    "plt.show()"
   ]
  },
  {
   "cell_type": "markdown",
   "metadata": {},
   "source": []
  },
  {
   "cell_type": "code",
   "execution_count": 70,
   "metadata": {},
   "outputs": [
    {
     "data": {
      "text/latex": [
       "$\\displaystyle 2 l \\sqrt{\\frac{g \\left(g^{2} + 5 g l + 4 l^{2}\\right)}{l^{2} \\cdot \\left(3 g + 8 l\\right)}}$"
      ],
      "text/plain": [
       "2*l*sqrt(g*(g**2 + 5*g*l + 4*l**2)/(l**2*(3*g + 8*l)))"
      ]
     },
     "execution_count": 70,
     "metadata": {},
     "output_type": "execute_result"
    }
   ],
   "source": [
    "# Redefining symbols in sympy\n",
    "m1, m2 = sp.symbols('m_1 m_2')\n",
    "g, l, A, omega = sp.symbols('g l A omega')\n",
    "k = -g/l\n",
    "\n",
    "# Defining curves in sympy\n",
    "sp_curve1 = sp.Eq(m1, 2*sp.sqrt(k*(k-1)*(k-4)/(3*k-8)))\n",
    "sp_curve2 = sp.Eq(m2, 1/4 * (sp.sqrt((9-4*k)*(13-20*k)) - (9-4*k)))\n",
    "\n",
    "# Solving for the amplitude\n",
    "m = A/l\n",
    "A1 = sp.solve(sp_curve1.subs(m1, m), A)[0]\n",
    "A2 = sp.solve(sp_curve2.subs(m2, m), A)[0]\n",
    "\n",
    "A1"
   ]
  },
  {
   "cell_type": "code",
   "execution_count": 71,
   "metadata": {},
   "outputs": [
    {
     "data": {
      "text/latex": [
       "$\\displaystyle - g + 3.80788655293195 l \\sqrt{\\frac{0.344827586206897 g^{2}}{l^{2}} + \\frac{g}{l} + 0.504310344827586} - 2.25 l$"
      ],
      "text/plain": [
       "-g + 3.80788655293195*l*sqrt(0.344827586206897*g**2/l**2 + g/l + 0.504310344827586) - 2.25*l"
      ]
     },
     "execution_count": 71,
     "metadata": {},
     "output_type": "execute_result"
    }
   ],
   "source": [
    "A2"
   ]
  },
  {
   "cell_type": "code",
   "execution_count": 72,
   "metadata": {},
   "outputs": [
    {
     "name": "stdout",
     "output_type": "stream",
     "text": [
      " Minimum Amplitude: 12.5102005550190\n",
      " Maximum Amplitude: 13.0544978050528\n"
     ]
    }
   ],
   "source": [
    "print(f' Minimum Amplitude: {A1.subs(g, 9.81).subs(l, 1)}\\n',f'Maximum Amplitude: {A2.subs(g, 9.81).subs(l, 1)}')"
   ]
  },
  {
   "cell_type": "markdown",
   "metadata": {},
   "source": [
    "Thus, for $\\omega_1 = \\sqrt{\\frac{g}{l}}$, the minimum amplitude for stable motion is $A=12.5 \\text{m}$ and the maximum is $13.1 \\text{m}$. However, the initial condition given in the problem was that $A<<1$, so this pendulum will experience unstable motion (i.e., an upswing).\n",
    "\n",
    "\n",
    "Now, for $\\omega_2 = 2\\sqrt{\\frac{g}{l}}$:"
   ]
  },
  {
   "cell_type": "code",
   "execution_count": 73,
   "metadata": {},
   "outputs": [
    {
     "data": {
      "text/latex": [
       "$\\displaystyle \\frac{l \\sqrt{\\frac{g \\left(g^{2} + 5 g l + 4 l^{2}\\right)}{l^{2} \\cdot \\left(3 g + 8 l\\right)}}}{2}$"
      ],
      "text/plain": [
       "l*sqrt(g*(g**2 + 5*g*l + 4*l**2)/(l**2*(3*g + 8*l)))/2"
      ]
     },
     "execution_count": 73,
     "metadata": {},
     "output_type": "execute_result"
    }
   ],
   "source": [
    "# Solving for the amplitude\n",
    "m = 4*A/l\n",
    "A1 = sp.solve(sp_curve1.subs(m1, m), A)[0]\n",
    "A2 = sp.solve(sp_curve2.subs(m2, m), A)[0]\n",
    "\n",
    "A1"
   ]
  },
  {
   "cell_type": "code",
   "execution_count": 74,
   "metadata": {},
   "outputs": [
    {
     "data": {
      "text/latex": [
       "$\\displaystyle - 0.25 g + 0.951971638232989 l \\sqrt{\\frac{0.344827586206897 g^{2}}{l^{2}} + \\frac{g}{l} + 0.504310344827586} - 0.5625 l$"
      ],
      "text/plain": [
       "-0.25*g + 0.951971638232989*l*sqrt(0.344827586206897*g**2/l**2 + g/l + 0.504310344827586) - 0.5625*l"
      ]
     },
     "execution_count": 74,
     "metadata": {},
     "output_type": "execute_result"
    }
   ],
   "source": [
    "A2"
   ]
  },
  {
   "cell_type": "code",
   "execution_count": 75,
   "metadata": {},
   "outputs": [
    {
     "name": "stdout",
     "output_type": "stream",
     "text": [
      " Minimum Amplitude: 3.12755013875474\n",
      " Maximum Amplitude: 3.26362445126319\n"
     ]
    }
   ],
   "source": [
    "print(f' Minimum Amplitude: {A1.subs(g, 9.81).subs(l, 1)}\\n',f'Maximum Amplitude: {A2.subs(g, 9.81).subs(l, 1)}')"
   ]
  },
  {
   "cell_type": "markdown",
   "metadata": {},
   "source": [
    "Thus, for $\\omega_2 = 2\\sqrt{\\frac{g}{l}}$, the minimum amplitude for stable motion is $A=3.1 \\text{m}$ and the maximum is $3.2 \\text{m}$. However, like the first frequency given, the initial condition given in the problem was that $A<<1$, so this pendulum will experience unstable motion (i.e., an upswing).\n",
    "\n",
    "\n",
    "Now, for $\\omega_3 = 3\\sqrt{\\frac{g}{l}}$:"
   ]
  },
  {
   "cell_type": "code",
   "execution_count": 63,
   "metadata": {},
   "outputs": [
    {
     "data": {
      "text/latex": [
       "$\\displaystyle \\frac{2 l \\sqrt{\\frac{g \\left(g^{2} + 5 g l + 4 l^{2}\\right)}{l^{2} \\cdot \\left(3 g + 8 l\\right)}}}{9}$"
      ],
      "text/plain": [
       "2*l*sqrt(g*(g**2 + 5*g*l + 4*l**2)/(l**2*(3*g + 8*l)))/9"
      ]
     },
     "execution_count": 63,
     "metadata": {},
     "output_type": "execute_result"
    }
   ],
   "source": [
    "# Solving for the amplitude\n",
    "m = 9*A/l\n",
    "A1 = sp.solve(sp_curve1.subs(m1, m), A)[0]\n",
    "A2 = sp.solve(sp_curve2.subs(m2, m), A)[0]\n",
    "\n",
    "A1"
   ]
  },
  {
   "cell_type": "code",
   "execution_count": 64,
   "metadata": {},
   "outputs": [
    {
     "data": {
      "text/latex": [
       "$\\displaystyle - 0.111111111111111 g + 0.423098505881328 l \\sqrt{\\frac{0.344827586206897 g^{2}}{l^{2}} + \\frac{g}{l} + 0.504310344827586} - 0.25 l$"
      ],
      "text/plain": [
       "-0.111111111111111*g + 0.423098505881328*l*sqrt(0.344827586206897*g**2/l**2 + g/l + 0.504310344827586) - 0.25*l"
      ]
     },
     "execution_count": 64,
     "metadata": {},
     "output_type": "execute_result"
    }
   ],
   "source": [
    "A2"
   ]
  },
  {
   "cell_type": "code",
   "execution_count": 67,
   "metadata": {},
   "outputs": [
    {
     "name": "stdout",
     "output_type": "stream",
     "text": [
      " Minimum Amplitude: 1.39002228389100\n",
      " Maximum Amplitude: 1.45049975611697\n"
     ]
    }
   ],
   "source": [
    "print(f' Minimum Amplitude: {A1.subs(g, 9.81).subs(l, 1)}\\n',f'Maximum Amplitude: {A2.subs(g, 9.81).subs(l, 1)}')"
   ]
  },
  {
   "cell_type": "markdown",
   "metadata": {},
   "source": [
    "## Part B: Stable Amplitudes\n"
   ]
  },
  {
   "cell_type": "code",
   "execution_count": null,
   "metadata": {},
   "outputs": [],
   "source": []
  },
  {
   "cell_type": "markdown",
   "metadata": {},
   "source": [
    "# Animating the Scenario\n",
    "\n",
    "The goal of this simulation is to not just make the pendulum animated, but *interactive*. "
   ]
  },
  {
   "cell_type": "code",
   "execution_count": null,
   "metadata": {},
   "outputs": [],
   "source": [
    "# Defining the EoM numerically\n",
    "def ODE(t, S, A, omega, g, l):\n",
    "    phi, phi_dot = S\n",
    "    S_dot = [phi_dot, \n",
    "             g/l * (1 - A*omega**2/g * np.cos(omega * t))*phi]\n",
    "    return S_dot"
   ]
  }
 ],
 "metadata": {
  "kernelspec": {
   "display_name": "Python 3",
   "language": "python",
   "name": "python3"
  },
  "language_info": {
   "codemirror_mode": {
    "name": "ipython",
    "version": 3
   },
   "file_extension": ".py",
   "mimetype": "text/x-python",
   "name": "python",
   "nbconvert_exporter": "python",
   "pygments_lexer": "ipython3",
   "version": "3.12.0"
  }
 },
 "nbformat": 4,
 "nbformat_minor": 2
}
